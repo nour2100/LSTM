{
 "cells": [
  {
   "cell_type": "code",
   "execution_count": 1,
   "id": "1aabd594",
   "metadata": {},
   "outputs": [
    {
     "data": {
      "text/html": [
       "<div>\n",
       "<style scoped>\n",
       "    .dataframe tbody tr th:only-of-type {\n",
       "        vertical-align: middle;\n",
       "    }\n",
       "\n",
       "    .dataframe tbody tr th {\n",
       "        vertical-align: top;\n",
       "    }\n",
       "\n",
       "    .dataframe thead th {\n",
       "        text-align: right;\n",
       "    }\n",
       "</style>\n",
       "<table border=\"1\" class=\"dataframe\">\n",
       "  <thead>\n",
       "    <tr style=\"text-align: right;\">\n",
       "      <th></th>\n",
       "      <th>Date</th>\n",
       "      <th>Open</th>\n",
       "      <th>High</th>\n",
       "      <th>Low</th>\n",
       "      <th>Close</th>\n",
       "      <th>Adj Close</th>\n",
       "      <th>Volume</th>\n",
       "    </tr>\n",
       "  </thead>\n",
       "  <tbody>\n",
       "    <tr>\n",
       "      <th>0</th>\n",
       "      <td>2016-12-16</td>\n",
       "      <td>62.950001</td>\n",
       "      <td>62.950001</td>\n",
       "      <td>62.119999</td>\n",
       "      <td>62.299999</td>\n",
       "      <td>57.387455</td>\n",
       "      <td>42453100</td>\n",
       "    </tr>\n",
       "    <tr>\n",
       "      <th>1</th>\n",
       "      <td>2016-12-19</td>\n",
       "      <td>62.560001</td>\n",
       "      <td>63.770000</td>\n",
       "      <td>62.419998</td>\n",
       "      <td>63.619999</td>\n",
       "      <td>58.603355</td>\n",
       "      <td>34338200</td>\n",
       "    </tr>\n",
       "    <tr>\n",
       "      <th>2</th>\n",
       "      <td>2016-12-20</td>\n",
       "      <td>63.689999</td>\n",
       "      <td>63.799999</td>\n",
       "      <td>63.029999</td>\n",
       "      <td>63.540001</td>\n",
       "      <td>58.529682</td>\n",
       "      <td>26028400</td>\n",
       "    </tr>\n",
       "    <tr>\n",
       "      <th>3</th>\n",
       "      <td>2016-12-21</td>\n",
       "      <td>63.430000</td>\n",
       "      <td>63.700001</td>\n",
       "      <td>63.119999</td>\n",
       "      <td>63.540001</td>\n",
       "      <td>58.529682</td>\n",
       "      <td>17096300</td>\n",
       "    </tr>\n",
       "    <tr>\n",
       "      <th>4</th>\n",
       "      <td>2016-12-22</td>\n",
       "      <td>63.840000</td>\n",
       "      <td>64.099998</td>\n",
       "      <td>63.410000</td>\n",
       "      <td>63.549999</td>\n",
       "      <td>58.538887</td>\n",
       "      <td>22176600</td>\n",
       "    </tr>\n",
       "    <tr>\n",
       "      <th>...</th>\n",
       "      <td>...</td>\n",
       "      <td>...</td>\n",
       "      <td>...</td>\n",
       "      <td>...</td>\n",
       "      <td>...</td>\n",
       "      <td>...</td>\n",
       "      <td>...</td>\n",
       "    </tr>\n",
       "    <tr>\n",
       "      <th>1505</th>\n",
       "      <td>2022-12-09</td>\n",
       "      <td>244.699997</td>\n",
       "      <td>248.309998</td>\n",
       "      <td>244.160004</td>\n",
       "      <td>245.419998</td>\n",
       "      <td>245.419998</td>\n",
       "      <td>20607100</td>\n",
       "    </tr>\n",
       "    <tr>\n",
       "      <th>1506</th>\n",
       "      <td>2022-12-12</td>\n",
       "      <td>247.449997</td>\n",
       "      <td>252.539993</td>\n",
       "      <td>247.169998</td>\n",
       "      <td>252.509995</td>\n",
       "      <td>252.509995</td>\n",
       "      <td>30665100</td>\n",
       "    </tr>\n",
       "    <tr>\n",
       "      <th>1507</th>\n",
       "      <td>2022-12-13</td>\n",
       "      <td>261.690002</td>\n",
       "      <td>263.920013</td>\n",
       "      <td>253.070007</td>\n",
       "      <td>256.920013</td>\n",
       "      <td>256.920013</td>\n",
       "      <td>42196900</td>\n",
       "    </tr>\n",
       "    <tr>\n",
       "      <th>1508</th>\n",
       "      <td>2022-12-14</td>\n",
       "      <td>257.130005</td>\n",
       "      <td>262.589996</td>\n",
       "      <td>254.309998</td>\n",
       "      <td>257.220001</td>\n",
       "      <td>257.220001</td>\n",
       "      <td>35410900</td>\n",
       "    </tr>\n",
       "    <tr>\n",
       "      <th>1509</th>\n",
       "      <td>2022-12-15</td>\n",
       "      <td>253.720001</td>\n",
       "      <td>254.199997</td>\n",
       "      <td>247.339996</td>\n",
       "      <td>249.009995</td>\n",
       "      <td>249.009995</td>\n",
       "      <td>35560400</td>\n",
       "    </tr>\n",
       "  </tbody>\n",
       "</table>\n",
       "<p>1510 rows × 7 columns</p>\n",
       "</div>"
      ],
      "text/plain": [
       "            Date        Open        High         Low       Close   Adj Close  \\\n",
       "0     2016-12-16   62.950001   62.950001   62.119999   62.299999   57.387455   \n",
       "1     2016-12-19   62.560001   63.770000   62.419998   63.619999   58.603355   \n",
       "2     2016-12-20   63.689999   63.799999   63.029999   63.540001   58.529682   \n",
       "3     2016-12-21   63.430000   63.700001   63.119999   63.540001   58.529682   \n",
       "4     2016-12-22   63.840000   64.099998   63.410000   63.549999   58.538887   \n",
       "...          ...         ...         ...         ...         ...         ...   \n",
       "1505  2022-12-09  244.699997  248.309998  244.160004  245.419998  245.419998   \n",
       "1506  2022-12-12  247.449997  252.539993  247.169998  252.509995  252.509995   \n",
       "1507  2022-12-13  261.690002  263.920013  253.070007  256.920013  256.920013   \n",
       "1508  2022-12-14  257.130005  262.589996  254.309998  257.220001  257.220001   \n",
       "1509  2022-12-15  253.720001  254.199997  247.339996  249.009995  249.009995   \n",
       "\n",
       "        Volume  \n",
       "0     42453100  \n",
       "1     34338200  \n",
       "2     26028400  \n",
       "3     17096300  \n",
       "4     22176600  \n",
       "...        ...  \n",
       "1505  20607100  \n",
       "1506  30665100  \n",
       "1507  42196900  \n",
       "1508  35410900  \n",
       "1509  35560400  \n",
       "\n",
       "[1510 rows x 7 columns]"
      ]
     },
     "execution_count": 1,
     "metadata": {},
     "output_type": "execute_result"
    }
   ],
   "source": [
    "import pandas as pd\n",
    "#read the data\n",
    "data = pd.read_csv('MSFT-2.csv')\n",
    "\n",
    "data"
   ]
  },
  {
   "cell_type": "code",
   "execution_count": 2,
   "id": "f7a4cd9d",
   "metadata": {},
   "outputs": [
    {
     "data": {
      "text/plain": [
       "pandas.core.frame.DataFrame"
      ]
     },
     "execution_count": 2,
     "metadata": {},
     "output_type": "execute_result"
    }
   ],
   "source": [
    "type(data)"
   ]
  },
  {
   "cell_type": "code",
   "execution_count": 3,
   "id": "d9bfcc05",
   "metadata": {},
   "outputs": [
    {
     "data": {
      "text/html": [
       "<div>\n",
       "<style scoped>\n",
       "    .dataframe tbody tr th:only-of-type {\n",
       "        vertical-align: middle;\n",
       "    }\n",
       "\n",
       "    .dataframe tbody tr th {\n",
       "        vertical-align: top;\n",
       "    }\n",
       "\n",
       "    .dataframe thead th {\n",
       "        text-align: right;\n",
       "    }\n",
       "</style>\n",
       "<table border=\"1\" class=\"dataframe\">\n",
       "  <thead>\n",
       "    <tr style=\"text-align: right;\">\n",
       "      <th></th>\n",
       "      <th>Date</th>\n",
       "      <th>Open</th>\n",
       "      <th>High</th>\n",
       "      <th>Low</th>\n",
       "      <th>Close</th>\n",
       "      <th>Adj Close</th>\n",
       "      <th>Volume</th>\n",
       "    </tr>\n",
       "  </thead>\n",
       "  <tbody>\n",
       "    <tr>\n",
       "      <th>1505</th>\n",
       "      <td>2022-12-09</td>\n",
       "      <td>244.699997</td>\n",
       "      <td>248.309998</td>\n",
       "      <td>244.160004</td>\n",
       "      <td>245.419998</td>\n",
       "      <td>245.419998</td>\n",
       "      <td>20607100</td>\n",
       "    </tr>\n",
       "    <tr>\n",
       "      <th>1506</th>\n",
       "      <td>2022-12-12</td>\n",
       "      <td>247.449997</td>\n",
       "      <td>252.539993</td>\n",
       "      <td>247.169998</td>\n",
       "      <td>252.509995</td>\n",
       "      <td>252.509995</td>\n",
       "      <td>30665100</td>\n",
       "    </tr>\n",
       "    <tr>\n",
       "      <th>1507</th>\n",
       "      <td>2022-12-13</td>\n",
       "      <td>261.690002</td>\n",
       "      <td>263.920013</td>\n",
       "      <td>253.070007</td>\n",
       "      <td>256.920013</td>\n",
       "      <td>256.920013</td>\n",
       "      <td>42196900</td>\n",
       "    </tr>\n",
       "    <tr>\n",
       "      <th>1508</th>\n",
       "      <td>2022-12-14</td>\n",
       "      <td>257.130005</td>\n",
       "      <td>262.589996</td>\n",
       "      <td>254.309998</td>\n",
       "      <td>257.220001</td>\n",
       "      <td>257.220001</td>\n",
       "      <td>35410900</td>\n",
       "    </tr>\n",
       "    <tr>\n",
       "      <th>1509</th>\n",
       "      <td>2022-12-15</td>\n",
       "      <td>253.720001</td>\n",
       "      <td>254.199997</td>\n",
       "      <td>247.339996</td>\n",
       "      <td>249.009995</td>\n",
       "      <td>249.009995</td>\n",
       "      <td>35560400</td>\n",
       "    </tr>\n",
       "  </tbody>\n",
       "</table>\n",
       "</div>"
      ],
      "text/plain": [
       "            Date        Open        High         Low       Close   Adj Close  \\\n",
       "1505  2022-12-09  244.699997  248.309998  244.160004  245.419998  245.419998   \n",
       "1506  2022-12-12  247.449997  252.539993  247.169998  252.509995  252.509995   \n",
       "1507  2022-12-13  261.690002  263.920013  253.070007  256.920013  256.920013   \n",
       "1508  2022-12-14  257.130005  262.589996  254.309998  257.220001  257.220001   \n",
       "1509  2022-12-15  253.720001  254.199997  247.339996  249.009995  249.009995   \n",
       "\n",
       "        Volume  \n",
       "1505  20607100  \n",
       "1506  30665100  \n",
       "1507  42196900  \n",
       "1508  35410900  \n",
       "1509  35560400  "
      ]
     },
     "execution_count": 3,
     "metadata": {},
     "output_type": "execute_result"
    }
   ],
   "source": [
    "data.tail()"
   ]
  },
  {
   "cell_type": "code",
   "execution_count": 7,
   "id": "6ce849a7",
   "metadata": {},
   "outputs": [],
   "source": [
    "opn = data[['Open']]"
   ]
  },
  {
   "cell_type": "code",
   "execution_count": 8,
   "id": "e47bca7d",
   "metadata": {},
   "outputs": [
    {
     "data": {
      "text/plain": [
       "<AxesSubplot:>"
      ]
     },
     "execution_count": 8,
     "metadata": {},
     "output_type": "execute_result"
    },
    {
     "data": {
      "image/png": "[encoded data removed]",
      "text/plain": [
       "<Figure size 432x288 with 1 Axes>"
      ]
     },
     "metadata": {
      "needs_background": "light"
     },
     "output_type": "display_data"
    }
   ],
   "source": [
    "#Plot open column information\n",
    "opn.plot()"
   ]
  },
  {
   "cell_type": "code",
   "execution_count": 9,
   "id": "b644b510",
   "metadata": {},
   "outputs": [],
   "source": [
    "import matplotlib.pyplot as plt\n"
   ]
  },
  {
   "cell_type": "code",
   "execution_count": 10,
   "id": "1f7dc55d",
   "metadata": {},
   "outputs": [
    {
     "data": {
      "text/plain": [
       "array([[ 62.950001],\n",
       "       [ 62.560001],\n",
       "       [ 63.689999],\n",
       "       ...,\n",
       "       [261.690002],\n",
       "       [257.130005],\n",
       "       [253.720001]])"
      ]
     },
     "execution_count": 10,
     "metadata": {},
     "output_type": "execute_result"
    }
   ],
   "source": [
    "ds = opn.values\n",
    "ds"
   ]
  },
  {
   "cell_type": "code",
   "execution_count": 11,
   "id": "638e1abf",
   "metadata": {},
   "outputs": [
    {
     "data": {
      "text/plain": [
       "[<matplotlib.lines.Line2D at 0x7fe7e5d93310>]"
      ]
     },
     "execution_count": 11,
     "metadata": {},
     "output_type": "execute_result"
    },
    {
     "data": {
      "image/png": "[encoded data removed]",
      "text/plain": [
       "<Figure size 432x288 with 1 Axes>"
      ]
     },
     "metadata": {
      "needs_background": "light"
     },
     "output_type": "display_data"
    }
   ],
   "source": [
    "plt.plot(ds)"
   ]
  },
  {
   "cell_type": "code",
   "execution_count": 12,
   "id": "a5e2c7c3",
   "metadata": {},
   "outputs": [],
   "source": [
    "import numpy as np\n",
    "\n",
    "from sklearn.preprocessing import MinMaxScaler"
   ]
  },
  {
   "cell_type": "code",
   "execution_count": 13,
   "id": "795626d5",
   "metadata": {},
   "outputs": [
    {
     "data": {
      "text/plain": [
       "(1510, 1510)"
      ]
     },
     "execution_count": 13,
     "metadata": {},
     "output_type": "execute_result"
    }
   ],
   "source": [
    "#Using MinMaxScaler for normalizing data between 0 & 1\n",
    "normalizer = MinMaxScaler(feature_range=(0,1))\n",
    "ds_scaled = normalizer.fit_transform(np.array(ds).reshape(-1,1))\n",
    "\n",
    "len(ds_scaled), len(ds)"
   ]
  },
  {
   "cell_type": "code",
   "execution_count": 43,
   "id": "00d7239f",
   "metadata": {},
   "outputs": [
    {
     "data": {
      "text/plain": [
       "array([[0.00269094],\n",
       "       [0.00131007],\n",
       "       [0.00531105],\n",
       "       ...,\n",
       "       [0.70636974],\n",
       "       [0.69022416],\n",
       "       [0.67815035]])"
      ]
     },
     "execution_count": 43,
     "metadata": {},
     "output_type": "execute_result"
    }
   ],
   "source": [
    "ds_scaled"
   ]
  },
  {
   "cell_type": "code",
   "execution_count": 14,
   "id": "81e69dbc",
   "metadata": {},
   "outputs": [
    {
     "data": {
      "text/plain": [
       "(1057, 453)"
      ]
     },
     "execution_count": 14,
     "metadata": {},
     "output_type": "execute_result"
    }
   ],
   "source": [
    "#Defining test and train data sizes\n",
    "train_size = int(len(ds_scaled)*0.70)\n",
    "test_size = len(ds_scaled) - train_size\n",
    "\n",
    "train_size,test_size"
   ]
  },
  {
   "cell_type": "code",
   "execution_count": 15,
   "id": "61dbf6db",
   "metadata": {},
   "outputs": [],
   "source": [
    "#Splitting data between train and test\n",
    "ds_train, ds_test = ds_scaled[0:train_size,:], ds_scaled[train_size:len(ds_scaled),:1]"
   ]
  },
  {
   "cell_type": "code",
   "execution_count": 16,
   "id": "61d4cacc",
   "metadata": {},
   "outputs": [],
   "source": [
    "#creating dataset in time series for LSTM model \n",
    "#X[100,120,140,160,180] : Y[200]\n",
    "def create_ds(dataset,step):\n",
    "    Xtrain, Ytrain = [], []\n",
    "    for i in range(len(dataset)-step-1):\n",
    "        a = dataset[i:(i+step), 0]\n",
    "        Xtrain.append(a)\n",
    "        Ytrain.append(dataset[i + step, 0])\n",
    "    return np.array(Xtrain), np.array(Ytrain)"
   ]
  },
  {
   "cell_type": "code",
   "execution_count": 17,
   "id": "642ca192",
   "metadata": {},
   "outputs": [],
   "source": [
    "#Taking 100 days price as one record for training\n",
    "time_stamp = 100\n",
    "X_train, y_train = create_ds(ds_train,time_stamp)\n",
    "X_test, y_test = create_ds(ds_test,time_stamp)"
   ]
  },
  {
   "cell_type": "code",
   "execution_count": 18,
   "id": "4e77aa38",
   "metadata": {},
   "outputs": [],
   "source": [
    "#Reshaping data to fit into LSTM model\n",
    "X_train = X_train.reshape(X_train.shape[0],X_train.shape[1] , 1)\n",
    "X_test = X_test.reshape(X_test.shape[0],X_test.shape[1] , 1)"
   ]
  },
  {
   "cell_type": "code",
   "execution_count": 19,
   "id": "78aa141f",
   "metadata": {},
   "outputs": [
    {
     "name": "stderr",
     "output_type": "stream",
     "text": [
      "2022-12-19 11:34:56.703226: I tensorflow/core/platform/cpu_feature_guard.cc:151] This TensorFlow binary is optimized with oneAPI Deep Neural Network Library (oneDNN) to use the following CPU instructions in performance-critical operations:  AVX2 FMA\n",
      "To enable them in other operations, rebuild TensorFlow with the appropriate compiler flags.\n"
     ]
    },
    {
     "name": "stdout",
     "output_type": "stream",
     "text": [
      "Model: \"sequential\"\n",
      "_________________________________________________________________\n",
      " Layer (type)                Output Shape              Param #   \n",
      "=================================================================\n",
      " lstm (LSTM)                 (None, 100, 50)           10400     \n",
      "                                                                 \n",
      " lstm_1 (LSTM)               (None, 100, 50)           20200     \n",
      "                                                                 \n",
      " lstm_2 (LSTM)               (None, 50)                20200     \n",
      "                                                                 \n",
      " dense (Dense)               (None, 1)                 51        \n",
      "                                                                 \n",
      "=================================================================\n",
      "Total params: 50,851\n",
      "Trainable params: 50,851\n",
      "Non-trainable params: 0\n",
      "_________________________________________________________________\n"
     ]
    }
   ],
   "source": [
    "from keras.models import Sequential\n",
    "from keras.layers import Dense, LSTM\n",
    "\n",
    "#Creating LSTM model using keras\n",
    "model = Sequential()\n",
    "model.add(LSTM(units=50,return_sequences=True,input_shape=(X_train.shape[1],1)))\n",
    "model.add(LSTM(units=50,return_sequences=True))\n",
    "model.add(LSTM(units=50))\n",
    "model.add(Dense(units=1,activation='relu'))\n",
    "model.summary()"
   ]
  },
  {
   "cell_type": "code",
   "execution_count": 20,
   "id": "cacb84b3",
   "metadata": {},
   "outputs": [
    {
     "name": "stdout",
     "output_type": "stream",
     "text": [
      "Epoch 1/100\n",
      "15/15 [==============================] - 6s 189ms/step - loss: 0.0219 - mean_absolute_error: 0.1091 - val_loss: 0.0713 - val_mean_absolute_error: 0.2591\n",
      "Epoch 2/100\n",
      "15/15 [==============================] - 2s 162ms/step - loss: 0.0028 - mean_absolute_error: 0.0405 - val_loss: 0.0065 - val_mean_absolute_error: 0.0677\n",
      "Epoch 3/100\n",
      "15/15 [==============================] - 2s 162ms/step - loss: 8.6143e-04 - mean_absolute_error: 0.0202 - val_loss: 0.0025 - val_mean_absolute_error: 0.0411\n",
      "Epoch 4/100\n",
      "15/15 [==============================] - 2s 162ms/step - loss: 5.3451e-04 - mean_absolute_error: 0.0160 - val_loss: 0.0026 - val_mean_absolute_error: 0.0423\n",
      "Epoch 5/100\n",
      "15/15 [==============================] - 3s 226ms/step - loss: 5.0435e-04 - mean_absolute_error: 0.0150 - val_loss: 0.0025 - val_mean_absolute_error: 0.0408\n",
      "Epoch 6/100\n",
      "15/15 [==============================] - 3s 205ms/step - loss: 5.0610e-04 - mean_absolute_error: 0.0150 - val_loss: 0.0026 - val_mean_absolute_error: 0.0425\n",
      "Epoch 7/100\n",
      "15/15 [==============================] - 5s 361ms/step - loss: 5.2369e-04 - mean_absolute_error: 0.0153 - val_loss: 0.0025 - val_mean_absolute_error: 0.0415\n",
      "Epoch 8/100\n",
      "15/15 [==============================] - 4s 280ms/step - loss: 4.8151e-04 - mean_absolute_error: 0.0144 - val_loss: 0.0025 - val_mean_absolute_error: 0.0411\n",
      "Epoch 9/100\n",
      "15/15 [==============================] - 4s 256ms/step - loss: 4.9254e-04 - mean_absolute_error: 0.0146 - val_loss: 0.0026 - val_mean_absolute_error: 0.0415\n",
      "Epoch 10/100\n",
      "15/15 [==============================] - 6s 402ms/step - loss: 4.7363e-04 - mean_absolute_error: 0.0144 - val_loss: 0.0025 - val_mean_absolute_error: 0.0412\n",
      "Epoch 11/100\n",
      "15/15 [==============================] - 5s 351ms/step - loss: 4.7307e-04 - mean_absolute_error: 0.0142 - val_loss: 0.0024 - val_mean_absolute_error: 0.0400\n",
      "Epoch 12/100\n",
      "15/15 [==============================] - 5s 363ms/step - loss: 4.8043e-04 - mean_absolute_error: 0.0144 - val_loss: 0.0026 - val_mean_absolute_error: 0.0419\n",
      "Epoch 13/100\n",
      "15/15 [==============================] - 5s 296ms/step - loss: 4.6204e-04 - mean_absolute_error: 0.0141 - val_loss: 0.0026 - val_mean_absolute_error: 0.0421\n",
      "Epoch 14/100\n",
      "15/15 [==============================] - 3s 215ms/step - loss: 4.6437e-04 - mean_absolute_error: 0.0141 - val_loss: 0.0026 - val_mean_absolute_error: 0.0420\n",
      "Epoch 15/100\n",
      "15/15 [==============================] - 4s 259ms/step - loss: 4.5337e-04 - mean_absolute_error: 0.0139 - val_loss: 0.0025 - val_mean_absolute_error: 0.0411\n",
      "Epoch 16/100\n",
      "15/15 [==============================] - 4s 247ms/step - loss: 4.5612e-04 - mean_absolute_error: 0.0140 - val_loss: 0.0025 - val_mean_absolute_error: 0.0410\n",
      "Epoch 17/100\n",
      "15/15 [==============================] - 4s 248ms/step - loss: 4.7539e-04 - mean_absolute_error: 0.0143 - val_loss: 0.0022 - val_mean_absolute_error: 0.0385\n",
      "Epoch 18/100\n",
      "15/15 [==============================] - 4s 265ms/step - loss: 4.4809e-04 - mean_absolute_error: 0.0137 - val_loss: 0.0024 - val_mean_absolute_error: 0.0401\n",
      "Epoch 19/100\n",
      "15/15 [==============================] - 4s 287ms/step - loss: 4.5881e-04 - mean_absolute_error: 0.0140 - val_loss: 0.0021 - val_mean_absolute_error: 0.0379\n",
      "Epoch 20/100\n",
      "15/15 [==============================] - 4s 243ms/step - loss: 4.9821e-04 - mean_absolute_error: 0.0144 - val_loss: 0.0021 - val_mean_absolute_error: 0.0379\n",
      "Epoch 21/100\n",
      "15/15 [==============================] - 4s 257ms/step - loss: 4.4552e-04 - mean_absolute_error: 0.0136 - val_loss: 0.0031 - val_mean_absolute_error: 0.0456\n",
      "Epoch 22/100\n",
      "15/15 [==============================] - 3s 208ms/step - loss: 4.4748e-04 - mean_absolute_error: 0.0141 - val_loss: 0.0020 - val_mean_absolute_error: 0.0370\n",
      "Epoch 23/100\n",
      "15/15 [==============================] - 2s 162ms/step - loss: 5.4169e-04 - mean_absolute_error: 0.0155 - val_loss: 0.0027 - val_mean_absolute_error: 0.0432\n",
      "Epoch 24/100\n",
      "15/15 [==============================] - 2s 161ms/step - loss: 4.4923e-04 - mean_absolute_error: 0.0140 - val_loss: 0.0021 - val_mean_absolute_error: 0.0376\n",
      "Epoch 25/100\n",
      "15/15 [==============================] - 2s 148ms/step - loss: 4.5883e-04 - mean_absolute_error: 0.0142 - val_loss: 0.0020 - val_mean_absolute_error: 0.0362\n",
      "Epoch 26/100\n",
      "15/15 [==============================] - 2s 147ms/step - loss: 4.0920e-04 - mean_absolute_error: 0.0132 - val_loss: 0.0028 - val_mean_absolute_error: 0.0439\n",
      "Epoch 27/100\n",
      "15/15 [==============================] - 2s 137ms/step - loss: 4.2749e-04 - mean_absolute_error: 0.0136 - val_loss: 0.0020 - val_mean_absolute_error: 0.0372\n",
      "Epoch 28/100\n",
      "15/15 [==============================] - 2s 138ms/step - loss: 4.1985e-04 - mean_absolute_error: 0.0135 - val_loss: 0.0024 - val_mean_absolute_error: 0.0404\n",
      "Epoch 29/100\n",
      "15/15 [==============================] - 2s 133ms/step - loss: 4.2728e-04 - mean_absolute_error: 0.0135 - val_loss: 0.0023 - val_mean_absolute_error: 0.0402\n",
      "Epoch 30/100\n",
      "15/15 [==============================] - 2s 150ms/step - loss: 4.2763e-04 - mean_absolute_error: 0.0138 - val_loss: 0.0019 - val_mean_absolute_error: 0.0357\n",
      "Epoch 31/100\n",
      "15/15 [==============================] - 2s 147ms/step - loss: 4.0199e-04 - mean_absolute_error: 0.0132 - val_loss: 0.0018 - val_mean_absolute_error: 0.0348\n",
      "Epoch 32/100\n",
      "15/15 [==============================] - 2s 138ms/step - loss: 3.8861e-04 - mean_absolute_error: 0.0128 - val_loss: 0.0018 - val_mean_absolute_error: 0.0348\n",
      "Epoch 33/100\n",
      "15/15 [==============================] - 2s 144ms/step - loss: 3.8269e-04 - mean_absolute_error: 0.0128 - val_loss: 0.0017 - val_mean_absolute_error: 0.0343\n",
      "Epoch 34/100\n",
      "15/15 [==============================] - 2s 151ms/step - loss: 3.7180e-04 - mean_absolute_error: 0.0127 - val_loss: 0.0016 - val_mean_absolute_error: 0.0330\n",
      "Epoch 35/100\n",
      "15/15 [==============================] - 3s 185ms/step - loss: 3.9635e-04 - mean_absolute_error: 0.0131 - val_loss: 0.0016 - val_mean_absolute_error: 0.0329\n",
      "Epoch 36/100\n",
      "15/15 [==============================] - 3s 202ms/step - loss: 4.0908e-04 - mean_absolute_error: 0.0137 - val_loss: 0.0024 - val_mean_absolute_error: 0.0409\n",
      "Epoch 37/100\n",
      "15/15 [==============================] - 2s 151ms/step - loss: 3.8179e-04 - mean_absolute_error: 0.0129 - val_loss: 0.0019 - val_mean_absolute_error: 0.0363\n",
      "Epoch 38/100\n",
      "15/15 [==============================] - 2s 162ms/step - loss: 3.7804e-04 - mean_absolute_error: 0.0131 - val_loss: 0.0022 - val_mean_absolute_error: 0.0395\n",
      "Epoch 39/100\n",
      "15/15 [==============================] - 3s 206ms/step - loss: 3.6073e-04 - mean_absolute_error: 0.0125 - val_loss: 0.0015 - val_mean_absolute_error: 0.0318\n",
      "Epoch 40/100\n",
      "15/15 [==============================] - 3s 238ms/step - loss: 3.6007e-04 - mean_absolute_error: 0.0125 - val_loss: 0.0020 - val_mean_absolute_error: 0.0377\n",
      "Epoch 41/100\n",
      "15/15 [==============================] - 3s 206ms/step - loss: 3.8555e-04 - mean_absolute_error: 0.0133 - val_loss: 0.0020 - val_mean_absolute_error: 0.0373\n",
      "Epoch 42/100\n",
      "15/15 [==============================] - 3s 200ms/step - loss: 3.3931e-04 - mean_absolute_error: 0.0122 - val_loss: 0.0023 - val_mean_absolute_error: 0.0402\n",
      "Epoch 43/100\n",
      "15/15 [==============================] - 4s 266ms/step - loss: 3.4208e-04 - mean_absolute_error: 0.0122 - val_loss: 0.0023 - val_mean_absolute_error: 0.0402\n",
      "Epoch 44/100\n",
      "15/15 [==============================] - 3s 173ms/step - loss: 3.3483e-04 - mean_absolute_error: 0.0122 - val_loss: 0.0023 - val_mean_absolute_error: 0.0401\n",
      "Epoch 45/100\n",
      "15/15 [==============================] - 2s 159ms/step - loss: 3.1990e-04 - mean_absolute_error: 0.0121 - val_loss: 0.0021 - val_mean_absolute_error: 0.0387\n",
      "Epoch 46/100\n",
      "15/15 [==============================] - 2s 155ms/step - loss: 3.1686e-04 - mean_absolute_error: 0.0118 - val_loss: 0.0020 - val_mean_absolute_error: 0.0376\n",
      "Epoch 47/100\n",
      "15/15 [==============================] - 3s 196ms/step - loss: 3.1089e-04 - mean_absolute_error: 0.0117 - val_loss: 0.0016 - val_mean_absolute_error: 0.0343\n",
      "Epoch 48/100\n",
      "15/15 [==============================] - 3s 231ms/step - loss: 2.9989e-04 - mean_absolute_error: 0.0117 - val_loss: 0.0018 - val_mean_absolute_error: 0.0357\n",
      "Epoch 49/100\n",
      "15/15 [==============================] - 3s 167ms/step - loss: 2.8543e-04 - mean_absolute_error: 0.0115 - val_loss: 0.0017 - val_mean_absolute_error: 0.0350\n",
      "Epoch 50/100\n",
      "15/15 [==============================] - 2s 163ms/step - loss: 2.8623e-04 - mean_absolute_error: 0.0113 - val_loss: 0.0021 - val_mean_absolute_error: 0.0384\n",
      "Epoch 51/100\n",
      "15/15 [==============================] - 3s 197ms/step - loss: 2.7366e-04 - mean_absolute_error: 0.0110 - val_loss: 0.0016 - val_mean_absolute_error: 0.0337\n",
      "Epoch 52/100\n",
      "15/15 [==============================] - 2s 164ms/step - loss: 2.6636e-04 - mean_absolute_error: 0.0109 - val_loss: 0.0015 - val_mean_absolute_error: 0.0321\n",
      "Epoch 53/100\n",
      "15/15 [==============================] - 2s 165ms/step - loss: 2.7356e-04 - mean_absolute_error: 0.0112 - val_loss: 0.0021 - val_mean_absolute_error: 0.0389\n",
      "Epoch 54/100\n",
      "15/15 [==============================] - 2s 159ms/step - loss: 3.7762e-04 - mean_absolute_error: 0.0134 - val_loss: 0.0052 - val_mean_absolute_error: 0.0635\n",
      "Epoch 55/100\n",
      "15/15 [==============================] - 3s 222ms/step - loss: 3.1846e-04 - mean_absolute_error: 0.0123 - val_loss: 0.0022 - val_mean_absolute_error: 0.0395\n",
      "Epoch 56/100\n",
      "15/15 [==============================] - 2s 156ms/step - loss: 2.5377e-04 - mean_absolute_error: 0.0107 - val_loss: 0.0014 - val_mean_absolute_error: 0.0303\n",
      "Epoch 57/100\n",
      "15/15 [==============================] - 2s 158ms/step - loss: 2.8943e-04 - mean_absolute_error: 0.0118 - val_loss: 0.0012 - val_mean_absolute_error: 0.0279\n",
      "Epoch 58/100\n",
      "15/15 [==============================] - 2s 144ms/step - loss: 2.8752e-04 - mean_absolute_error: 0.0116 - val_loss: 0.0014 - val_mean_absolute_error: 0.0302\n",
      "Epoch 59/100\n",
      "15/15 [==============================] - 3s 172ms/step - loss: 2.4967e-04 - mean_absolute_error: 0.0106 - val_loss: 0.0012 - val_mean_absolute_error: 0.0277\n",
      "Epoch 60/100\n",
      "15/15 [==============================] - 2s 148ms/step - loss: 2.7868e-04 - mean_absolute_error: 0.0112 - val_loss: 0.0015 - val_mean_absolute_error: 0.0318\n",
      "Epoch 61/100\n",
      "15/15 [==============================] - 2s 160ms/step - loss: 2.5678e-04 - mean_absolute_error: 0.0108 - val_loss: 0.0025 - val_mean_absolute_error: 0.0418\n",
      "Epoch 62/100\n",
      "15/15 [==============================] - 3s 191ms/step - loss: 2.9203e-04 - mean_absolute_error: 0.0119 - val_loss: 0.0021 - val_mean_absolute_error: 0.0379\n",
      "Epoch 63/100\n",
      "15/15 [==============================] - 3s 186ms/step - loss: 2.4222e-04 - mean_absolute_error: 0.0107 - val_loss: 0.0023 - val_mean_absolute_error: 0.0405\n",
      "Epoch 64/100\n",
      "15/15 [==============================] - 3s 169ms/step - loss: 2.5622e-04 - mean_absolute_error: 0.0109 - val_loss: 0.0025 - val_mean_absolute_error: 0.0419\n",
      "Epoch 65/100\n",
      "15/15 [==============================] - 3s 173ms/step - loss: 2.6684e-04 - mean_absolute_error: 0.0112 - val_loss: 0.0019 - val_mean_absolute_error: 0.0366\n",
      "Epoch 66/100\n",
      "15/15 [==============================] - 2s 150ms/step - loss: 2.4964e-04 - mean_absolute_error: 0.0107 - val_loss: 0.0023 - val_mean_absolute_error: 0.0398\n",
      "Epoch 67/100\n",
      "15/15 [==============================] - 3s 192ms/step - loss: 2.1811e-04 - mean_absolute_error: 0.0101 - val_loss: 0.0012 - val_mean_absolute_error: 0.0284\n",
      "Epoch 68/100\n",
      "15/15 [==============================] - 3s 199ms/step - loss: 2.1177e-04 - mean_absolute_error: 0.0097 - val_loss: 0.0012 - val_mean_absolute_error: 0.0278\n",
      "Epoch 69/100\n",
      "15/15 [==============================] - 3s 175ms/step - loss: 2.1219e-04 - mean_absolute_error: 0.0098 - val_loss: 0.0012 - val_mean_absolute_error: 0.0284\n",
      "Epoch 70/100\n",
      "15/15 [==============================] - 2s 144ms/step - loss: 2.0493e-04 - mean_absolute_error: 0.0097 - val_loss: 0.0018 - val_mean_absolute_error: 0.0357\n",
      "Epoch 71/100\n",
      "15/15 [==============================] - 2s 154ms/step - loss: 2.3037e-04 - mean_absolute_error: 0.0105 - val_loss: 0.0019 - val_mean_absolute_error: 0.0362\n",
      "Epoch 72/100\n",
      "15/15 [==============================] - 3s 175ms/step - loss: 2.2089e-04 - mean_absolute_error: 0.0102 - val_loss: 0.0016 - val_mean_absolute_error: 0.0326\n",
      "Epoch 73/100\n",
      "15/15 [==============================] - 3s 175ms/step - loss: 2.1279e-04 - mean_absolute_error: 0.0099 - val_loss: 0.0010 - val_mean_absolute_error: 0.0259\n",
      "Epoch 74/100\n",
      "15/15 [==============================] - 2s 146ms/step - loss: 2.1671e-04 - mean_absolute_error: 0.0102 - val_loss: 0.0015 - val_mean_absolute_error: 0.0319\n",
      "Epoch 75/100\n",
      "15/15 [==============================] - 2s 137ms/step - loss: 2.2846e-04 - mean_absolute_error: 0.0103 - val_loss: 0.0028 - val_mean_absolute_error: 0.0455\n",
      "Epoch 76/100\n",
      "15/15 [==============================] - 2s 138ms/step - loss: 2.2797e-04 - mean_absolute_error: 0.0106 - val_loss: 9.0854e-04 - val_mean_absolute_error: 0.0239\n",
      "Epoch 77/100\n",
      "15/15 [==============================] - 2s 147ms/step - loss: 2.2564e-04 - mean_absolute_error: 0.0104 - val_loss: 9.5512e-04 - val_mean_absolute_error: 0.0241\n",
      "Epoch 78/100\n",
      "15/15 [==============================] - 2s 147ms/step - loss: 2.1270e-04 - mean_absolute_error: 0.0099 - val_loss: 0.0010 - val_mean_absolute_error: 0.0257\n",
      "Epoch 79/100\n",
      "15/15 [==============================] - 2s 143ms/step - loss: 1.9689e-04 - mean_absolute_error: 0.0097 - val_loss: 0.0011 - val_mean_absolute_error: 0.0271\n",
      "Epoch 80/100\n",
      "15/15 [==============================] - 2s 139ms/step - loss: 1.8289e-04 - mean_absolute_error: 0.0092 - val_loss: 0.0012 - val_mean_absolute_error: 0.0280\n",
      "Epoch 81/100\n",
      "15/15 [==============================] - 2s 139ms/step - loss: 1.8545e-04 - mean_absolute_error: 0.0093 - val_loss: 0.0015 - val_mean_absolute_error: 0.0320\n",
      "Epoch 82/100\n",
      "15/15 [==============================] - 2s 148ms/step - loss: 2.0935e-04 - mean_absolute_error: 0.0101 - val_loss: 0.0010 - val_mean_absolute_error: 0.0260\n",
      "Epoch 83/100\n",
      "15/15 [==============================] - 2s 138ms/step - loss: 1.7620e-04 - mean_absolute_error: 0.0090 - val_loss: 0.0012 - val_mean_absolute_error: 0.0281\n",
      "Epoch 84/100\n",
      "15/15 [==============================] - 2s 148ms/step - loss: 1.8141e-04 - mean_absolute_error: 0.0092 - val_loss: 8.2704e-04 - val_mean_absolute_error: 0.0230\n",
      "Epoch 85/100\n",
      "15/15 [==============================] - 2s 153ms/step - loss: 2.0024e-04 - mean_absolute_error: 0.0098 - val_loss: 8.3806e-04 - val_mean_absolute_error: 0.0234\n",
      "Epoch 86/100\n",
      "15/15 [==============================] - 2s 156ms/step - loss: 1.8629e-04 - mean_absolute_error: 0.0094 - val_loss: 0.0012 - val_mean_absolute_error: 0.0292\n",
      "Epoch 87/100\n",
      "15/15 [==============================] - 3s 187ms/step - loss: 1.7723e-04 - mean_absolute_error: 0.0092 - val_loss: 0.0011 - val_mean_absolute_error: 0.0272\n",
      "Epoch 88/100\n",
      "15/15 [==============================] - 3s 218ms/step - loss: 1.9173e-04 - mean_absolute_error: 0.0099 - val_loss: 8.1260e-04 - val_mean_absolute_error: 0.0232\n",
      "Epoch 89/100\n",
      "15/15 [==============================] - 3s 191ms/step - loss: 1.7928e-04 - mean_absolute_error: 0.0091 - val_loss: 9.6284e-04 - val_mean_absolute_error: 0.0255\n",
      "Epoch 90/100\n",
      "15/15 [==============================] - 3s 172ms/step - loss: 1.6938e-04 - mean_absolute_error: 0.0089 - val_loss: 0.0010 - val_mean_absolute_error: 0.0263\n",
      "Epoch 91/100\n",
      "15/15 [==============================] - 3s 178ms/step - loss: 1.7319e-04 - mean_absolute_error: 0.0092 - val_loss: 0.0022 - val_mean_absolute_error: 0.0404\n",
      "Epoch 92/100\n",
      "15/15 [==============================] - 3s 170ms/step - loss: 2.0510e-04 - mean_absolute_error: 0.0099 - val_loss: 7.4575e-04 - val_mean_absolute_error: 0.0218\n",
      "Epoch 93/100\n",
      "15/15 [==============================] - 2s 139ms/step - loss: 1.6936e-04 - mean_absolute_error: 0.0089 - val_loss: 7.3889e-04 - val_mean_absolute_error: 0.0214\n",
      "Epoch 94/100\n",
      "15/15 [==============================] - 3s 179ms/step - loss: 2.1232e-04 - mean_absolute_error: 0.0100 - val_loss: 0.0017 - val_mean_absolute_error: 0.0346\n",
      "Epoch 95/100\n",
      "15/15 [==============================] - 3s 171ms/step - loss: 2.1545e-04 - mean_absolute_error: 0.0103 - val_loss: 7.2852e-04 - val_mean_absolute_error: 0.0216\n",
      "Epoch 96/100\n",
      "15/15 [==============================] - 3s 185ms/step - loss: 1.7341e-04 - mean_absolute_error: 0.0092 - val_loss: 7.2185e-04 - val_mean_absolute_error: 0.0217\n",
      "Epoch 97/100\n",
      "15/15 [==============================] - 2s 162ms/step - loss: 1.5664e-04 - mean_absolute_error: 0.0086 - val_loss: 7.3409e-04 - val_mean_absolute_error: 0.0220\n",
      "Epoch 98/100\n",
      "15/15 [==============================] - 2s 158ms/step - loss: 1.6560e-04 - mean_absolute_error: 0.0091 - val_loss: 6.6880e-04 - val_mean_absolute_error: 0.0205\n",
      "Epoch 99/100\n",
      "15/15 [==============================] - 3s 192ms/step - loss: 1.5398e-04 - mean_absolute_error: 0.0085 - val_loss: 7.4861e-04 - val_mean_absolute_error: 0.0223\n",
      "Epoch 100/100\n",
      "15/15 [==============================] - 3s 176ms/step - loss: 1.5410e-04 - mean_absolute_error: 0.0085 - val_loss: 7.0301e-04 - val_mean_absolute_error: 0.0216\n"
     ]
    },
    {
     "data": {
      "text/plain": [
       "<keras.callbacks.History at 0x7fe7ed5a0880>"
      ]
     },
     "execution_count": 20,
     "metadata": {},
     "output_type": "execute_result"
    }
   ],
   "source": [
    "from tensorflow.keras.models import Sequential\n",
    "from tensorflow.keras.optimizers import Adam\n",
    "from tensorflow.keras import layers\n",
    "#Training model with adam optimizer and mean squared error loss function\n",
    "model.compile(loss='mse', \n",
    "              optimizer=Adam(learning_rate=0.001),\n",
    "              metrics=['mean_absolute_error'])\n",
    "model.fit(X_train,y_train,validation_data=(X_test,y_test),epochs=100,batch_size=64)"
   ]
  },
  {
   "cell_type": "code",
   "execution_count": 21,
   "id": "cbb90e1e",
   "metadata": {},
   "outputs": [
    {
     "data": {
      "text/plain": [
       "[<matplotlib.lines.Line2D at 0x7fe7edb20550>]"
      ]
     },
     "execution_count": 21,
     "metadata": {},
     "output_type": "execute_result"
    },
    {
     "data": {
      "image/png": "[encoded data removed]",
      "text/plain": [
       "<Figure size 432x288 with 1 Axes>"
      ]
     },
     "metadata": {
      "needs_background": "light"
     },
     "output_type": "display_data"
    }
   ],
   "source": [
    "#PLotting loss, it shows that loss has decreased significantly and model trained well\n",
    "loss = model.history.history['loss']\n",
    "plt.plot(loss)"
   ]
  },
  {
   "cell_type": "code",
   "execution_count": 23,
   "id": "8d6f2c5d",
   "metadata": {},
   "outputs": [
    {
     "data": {
      "text/html": [
       "<div>\n",
       "<style scoped>\n",
       "    .dataframe tbody tr th:only-of-type {\n",
       "        vertical-align: middle;\n",
       "    }\n",
       "\n",
       "    .dataframe tbody tr th {\n",
       "        vertical-align: top;\n",
       "    }\n",
       "\n",
       "    .dataframe thead th {\n",
       "        text-align: right;\n",
       "    }\n",
       "</style>\n",
       "<table border=\"1\" class=\"dataframe\">\n",
       "  <thead>\n",
       "    <tr style=\"text-align: right;\">\n",
       "      <th></th>\n",
       "      <th>loss</th>\n",
       "      <th>mean_absolute_error</th>\n",
       "      <th>val_loss</th>\n",
       "      <th>val_mean_absolute_error</th>\n",
       "    </tr>\n",
       "  </thead>\n",
       "  <tbody>\n",
       "    <tr>\n",
       "      <th>0</th>\n",
       "      <td>0.021930</td>\n",
       "      <td>0.109066</td>\n",
       "      <td>0.071334</td>\n",
       "      <td>0.259144</td>\n",
       "    </tr>\n",
       "    <tr>\n",
       "      <th>1</th>\n",
       "      <td>0.002834</td>\n",
       "      <td>0.040469</td>\n",
       "      <td>0.006525</td>\n",
       "      <td>0.067672</td>\n",
       "    </tr>\n",
       "    <tr>\n",
       "      <th>2</th>\n",
       "      <td>0.000861</td>\n",
       "      <td>0.020177</td>\n",
       "      <td>0.002472</td>\n",
       "      <td>0.041143</td>\n",
       "    </tr>\n",
       "    <tr>\n",
       "      <th>3</th>\n",
       "      <td>0.000535</td>\n",
       "      <td>0.015960</td>\n",
       "      <td>0.002635</td>\n",
       "      <td>0.042329</td>\n",
       "    </tr>\n",
       "    <tr>\n",
       "      <th>4</th>\n",
       "      <td>0.000504</td>\n",
       "      <td>0.015015</td>\n",
       "      <td>0.002468</td>\n",
       "      <td>0.040775</td>\n",
       "    </tr>\n",
       "  </tbody>\n",
       "</table>\n",
       "</div>"
      ],
      "text/plain": [
       "       loss  mean_absolute_error  val_loss  val_mean_absolute_error\n",
       "0  0.021930             0.109066  0.071334                 0.259144\n",
       "1  0.002834             0.040469  0.006525                 0.067672\n",
       "2  0.000861             0.020177  0.002472                 0.041143\n",
       "3  0.000535             0.015960  0.002635                 0.042329\n",
       "4  0.000504             0.015015  0.002468                 0.040775"
      ]
     },
     "execution_count": 23,
     "metadata": {},
     "output_type": "execute_result"
    }
   ],
   "source": [
    "hist = pd.DataFrame(model.history.history)\n",
    "hist.head()"
   ]
  },
  {
   "cell_type": "code",
   "execution_count": 25,
   "id": "72af9fe8",
   "metadata": {},
   "outputs": [
    {
     "data": {
      "text/plain": [
       "<AxesSubplot:>"
      ]
     },
     "execution_count": 25,
     "metadata": {},
     "output_type": "execute_result"
    },
    {
     "data": {
      "image/png": "[encoded data removed]",
      "text/plain": [
       "<Figure size 432x288 with 1 Axes>"
      ]
     },
     "metadata": {
      "needs_background": "light"
     },
     "output_type": "display_data"
    }
   ],
   "source": [
    "#Plot history \n",
    "hist.plot()"
   ]
  },
  {
   "cell_type": "code",
   "execution_count": 26,
   "id": "b7854360",
   "metadata": {},
   "outputs": [],
   "source": [
    "#Predicitng on train and test data\n",
    "train_predict = model.predict(X_train)\n",
    "test_predict = model.predict(X_test)\n"
   ]
  },
  {
   "cell_type": "code",
   "execution_count": 27,
   "id": "f9fed2e7",
   "metadata": {},
   "outputs": [
    {
     "data": {
      "text/plain": [
       "[<matplotlib.lines.Line2D at 0x7fe7d3366c70>]"
      ]
     },
     "execution_count": 27,
     "metadata": {},
     "output_type": "execute_result"
    },
    {
     "data": {
      "image/png": "[encoded data removed]",
      "text/plain": [
       "<Figure size 432x288 with 1 Axes>"
      ]
     },
     "metadata": {
      "needs_background": "light"
     },
     "output_type": "display_data"
    }
   ],
   "source": [
    "\n",
    "#Inverse transform to get actual value\n",
    "train_predict = normalizer.inverse_transform(train_predict)\n",
    "test_predict = normalizer.inverse_transform(test_predict)\n",
    "\n",
    "#Comparing using visuals\n",
    "plt.plot(normalizer.inverse_transform(ds_scaled))\n",
    "plt.plot(train_predict)\n",
    "plt.plot(test_predict)"
   ]
  },
  {
   "cell_type": "code",
   "execution_count": 28,
   "id": "d85c2344",
   "metadata": {},
   "outputs": [
    {
     "data": {
      "text/plain": [
       "[<matplotlib.lines.Line2D at 0x7fe7d3511ca0>]"
      ]
     },
     "execution_count": 28,
     "metadata": {},
     "output_type": "execute_result"
    },
    {
     "data": {
      "image/png": "[encoded data removed]",
      "text/plain": [
       "<Figure size 432x288 with 1 Axes>"
      ]
     },
     "metadata": {
      "needs_background": "light"
     },
     "output_type": "display_data"
    }
   ],
   "source": [
    "type(train_predict)\n",
    "\n",
    "test = np.vstack((train_predict,test_predict))\n",
    "\n",
    "#Combining the predited data to create uniform data visualization\n",
    "plt.plot(normalizer.inverse_transform(ds_scaled))\n",
    "plt.plot(test)"
   ]
  },
  {
   "cell_type": "code",
   "execution_count": 29,
   "id": "38504c3c",
   "metadata": {},
   "outputs": [
    {
     "data": {
      "text/plain": [
       "142.7179642010148"
      ]
     },
     "execution_count": 29,
     "metadata": {},
     "output_type": "execute_result"
    }
   ],
   "source": [
    "### Calculate RMSE performance metrics\n",
    "import math\n",
    "from sklearn.metrics import mean_squared_error\n",
    "math.sqrt(mean_squared_error(y_train,train_predict))"
   ]
  },
  {
   "cell_type": "code",
   "execution_count": 30,
   "id": "d69763f5",
   "metadata": {},
   "outputs": [
    {
     "data": {
      "text/plain": [
       "282.2507970247551"
      ]
     },
     "execution_count": 30,
     "metadata": {},
     "output_type": "execute_result"
    }
   ],
   "source": [
    "\n",
    "### Test Data RMSE\n",
    "math.sqrt(mean_squared_error(y_test,test_predict))"
   ]
  },
  {
   "cell_type": "code",
   "execution_count": 31,
   "id": "09c6b184",
   "metadata": {},
   "outputs": [
    {
     "data": {
      "image/png": "[encoded data removed]",
      "text/plain": [
       "<Figure size 432x288 with 1 Axes>"
      ]
     },
     "metadata": {
      "needs_background": "light"
     },
     "output_type": "display_data"
    }
   ],
   "source": [
    "### Plotting \n",
    "# shift train predictions for plotting\n",
    "train_predict = normalizer.inverse_transform(train_predict)\n",
    "test_predict = normalizer.inverse_transform(test_predict)\n",
    "look_back=100\n",
    "trainPredictPlot = np.empty_like(ds)\n",
    "trainPredictPlot[:, :] = np.nan\n",
    "trainPredictPlot[look_back:len(train_predict)+look_back, :] = train_predict\n",
    "# shift test predictions for plotting\n",
    "testPredictPlot = np.empty_like(ds)\n",
    "testPredictPlot[:, :] = np.nan\n",
    "testPredictPlot[len(train_predict)+(look_back*2)+1:len(ds)-1, :] = test_predict\n",
    "# plot baseline and predictions\n",
    "plt.plot(normalizer.inverse_transform(ds))\n",
    "plt.plot(trainPredictPlot)\n",
    "plt.plot(testPredictPlot)\n",
    "plt.show()"
   ]
  },
  {
   "cell_type": "code",
   "execution_count": 32,
   "id": "e52aeef3",
   "metadata": {},
   "outputs": [
    {
     "data": {
      "text/plain": [
       "453"
      ]
     },
     "execution_count": 32,
     "metadata": {},
     "output_type": "execute_result"
    }
   ],
   "source": [
    "len(ds_test)"
   ]
  },
  {
   "cell_type": "code",
   "execution_count": 33,
   "id": "39767fbe",
   "metadata": {},
   "outputs": [],
   "source": [
    "#Getting the last 100 days records\n",
    "fut_inp = ds_test[353:]\n"
   ]
  },
  {
   "cell_type": "code",
   "execution_count": 34,
   "id": "ce4fb1a3",
   "metadata": {},
   "outputs": [
    {
     "data": {
      "text/plain": [
       "(1, 100)"
      ]
     },
     "execution_count": 34,
     "metadata": {},
     "output_type": "execute_result"
    }
   ],
   "source": [
    "\n",
    "\n",
    "\n",
    "\n",
    "fut_inp = fut_inp.reshape(1,-1)\n",
    "\n",
    "tmp_inp = list(fut_inp)\n",
    "\n",
    "fut_inp.shape"
   ]
  },
  {
   "cell_type": "code",
   "execution_count": 35,
   "id": "39b51817",
   "metadata": {},
   "outputs": [],
   "source": [
    "#Creating list of the last 100 data\n",
    "tmp_inp = tmp_inp[0].tolist()"
   ]
  },
  {
   "cell_type": "code",
   "execution_count": 36,
   "id": "b28238e2",
   "metadata": {},
   "outputs": [
    {
     "name": "stdout",
     "output_type": "stream",
     "text": [
      "[[0.6829358339309692], [0.6855472922325134], [0.6859057545661926], [0.6852735877037048], [0.6840935349464417], [0.682539701461792], [0.6807312965393066], [0.6787810325622559], [0.6767972707748413], [0.6748760938644409], [0.6730986833572388], [0.6715281009674072], [0.6702101826667786], [0.6691745519638062], [0.6684352159500122], [0.6679927706718445], [0.6678369045257568], [0.6679480671882629], [0.6682991981506348], [0.6688587069511414], [0.6695917248725891], [0.6704613566398621], [0.6714317202568054], [0.6724674105644226], [0.6735358238220215], [0.6746073365211487], [0.6756561994552612], [0.67666095495224], [0.6776041388511658], [0.6784728765487671]]\n"
     ]
    }
   ],
   "source": [
    "#Predicting next 30 days price suing the current data\n",
    "#It will predict in sliding window manner (algorithm) with stride 1\n",
    "lst_output=[]\n",
    "n_steps=100\n",
    "i=0\n",
    "while(i<30):\n",
    "    \n",
    "    if(len(tmp_inp)>100):\n",
    "        fut_inp = np.array(tmp_inp[1:])\n",
    "        fut_inp=fut_inp.reshape(1,-1)\n",
    "        fut_inp = fut_inp.reshape((1, n_steps, 1))\n",
    "        yhat = model.predict(fut_inp, verbose=0)\n",
    "        tmp_inp.extend(yhat[0].tolist())\n",
    "        tmp_inp = tmp_inp[1:]\n",
    "        lst_output.extend(yhat.tolist())\n",
    "        i=i+1\n",
    "    else:\n",
    "        fut_inp = fut_inp.reshape((1, n_steps,1))\n",
    "        yhat = model.predict(fut_inp, verbose=0)\n",
    "        tmp_inp.extend(yhat[0].tolist())\n",
    "        lst_output.extend(yhat.tolist())\n",
    "        i=i+1\n",
    "    \n",
    "\n",
    "print(lst_output)"
   ]
  },
  {
   "cell_type": "code",
   "execution_count": 44,
   "id": "ae318e00",
   "metadata": {},
   "outputs": [
    {
     "data": {
      "text/plain": [
       "30"
      ]
     },
     "execution_count": 44,
     "metadata": {},
     "output_type": "execute_result"
    }
   ],
   "source": [
    "len(lst_output)"
   ]
  },
  {
   "cell_type": "code",
   "execution_count": 38,
   "id": "a51f4395",
   "metadata": {},
   "outputs": [
    {
     "data": {
      "text/plain": [
       "[<matplotlib.lines.Line2D at 0x7fe7d3763310>]"
      ]
     },
     "execution_count": 38,
     "metadata": {},
     "output_type": "execute_result"
    },
    {
     "data": {
      "image/png": "[encoded data removed]",
      "text/plain": [
       "<Figure size 432x288 with 1 Axes>"
      ]
     },
     "metadata": {
      "needs_background": "light"
     },
     "output_type": "display_data"
    }
   ],
   "source": [
    "#Creating a dummy plane to plot graph one after another\n",
    "plot_new=np.arange(1,101)\n",
    "plot_pred=np.arange(101,131)\n",
    "\n",
    "plt.plot(plot_new, normalizer.inverse_transform(ds_scaled[1410:]))\n",
    "plt.plot(plot_pred, normalizer.inverse_transform(lst_output))"
   ]
  },
  {
   "cell_type": "code",
   "execution_count": 39,
   "id": "e32da7ce",
   "metadata": {},
   "outputs": [
    {
     "data": {
      "text/plain": [
       "1510"
      ]
     },
     "execution_count": 39,
     "metadata": {},
     "output_type": "execute_result"
    }
   ],
   "source": [
    "ds_new = ds_scaled.tolist()\n",
    "\n",
    "len(ds_new)"
   ]
  },
  {
   "cell_type": "code",
   "execution_count": 40,
   "id": "d5c849dd",
   "metadata": {},
   "outputs": [
    {
     "data": {
      "text/plain": [
       "[<matplotlib.lines.Line2D at 0x7fe7d5055160>]"
      ]
     },
     "execution_count": 40,
     "metadata": {},
     "output_type": "execute_result"
    },
    {
     "data": {
      "image/png": "[encoded data removed]",
      "text/plain": [
       "<Figure size 432x288 with 1 Axes>"
      ]
     },
     "metadata": {
      "needs_background": "light"
     },
     "output_type": "display_data"
    }
   ],
   "source": [
    "#Entends helps us to fill the missing value with approx value\n",
    "ds_new.extend(lst_output)\n",
    "plt.plot(ds_new[1200:])"
   ]
  },
  {
   "cell_type": "code",
   "execution_count": 41,
   "id": "907192b7",
   "metadata": {},
   "outputs": [],
   "source": [
    "#Creating final data for plotting\n",
    "final_graph = normalizer.inverse_transform(ds_new).tolist()"
   ]
  },
  {
   "cell_type": "code",
   "execution_count": 42,
   "id": "f775103b",
   "metadata": {},
   "outputs": [
    {
     "data": {
      "text/plain": [
       "<matplotlib.legend.Legend at 0x7fe7d50688b0>"
      ]
     },
     "execution_count": 42,
     "metadata": {},
     "output_type": "execute_result"
    },
    {
     "data": {
      "image/png": "[encoded data removed]",
      "text/plain": [
       "<Figure size 432x288 with 1 Axes>"
      ]
     },
     "metadata": {
      "needs_background": "light"
     },
     "output_type": "display_data"
    }
   ],
   "source": [
    "\n",
    "\n",
    "#Plotting final results with predicted value after 30 Days\n",
    "plt.plot(final_graph,)\n",
    "plt.ylabel(\"Price\")\n",
    "plt.xlabel(\"Time\")\n",
    "plt.title(\"{0} prediction of next month open\")\n",
    "plt.axhline(y=final_graph[len(final_graph)-1], color = 'red', linestyle = ':', label = 'NEXT 30D: {0}'.format(round(float(*final_graph[len(final_graph)-1]),2)))\n",
    "plt.legend()"
   ]
  },
  {
   "cell_type": "code",
   "execution_count": null,
   "id": "b146aa3d",
   "metadata": {},
   "outputs": [],
   "source": []
  }
 ],
 "metadata": {
  "kernelspec": {
   "display_name": "Python 3 (ipykernel)",
   "language": "python",
   "name": "python3"
  },
  "language_info": {
   "codemirror_mode": {
    "name": "ipython",
    "version": 3
   },
   "file_extension": ".py",
   "mimetype": "text/x-python",
   "name": "python",
   "nbconvert_exporter": "python",
   "pygments_lexer": "ipython3",
   "version": "3.9.7"
  }
 },
 "nbformat": 4,
 "nbformat_minor": 5
}
